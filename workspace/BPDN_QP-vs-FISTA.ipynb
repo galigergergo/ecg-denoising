{
 "cells": [
  {
   "cell_type": "code",
   "execution_count": 1,
   "id": "e2b0e62c-995c-4d19-92f3-49fd3471f8d2",
   "metadata": {},
   "outputs": [],
   "source": [
    "import pickle as pkl\n",
    "import numpy as np\n",
    "from tqdm import tqdm\n",
    "from src.steinbrinker.BPDN import BPDN\n",
    "import matplotlib.pyplot as plt\n",
    "import skglm\n",
    "import os\n",
    "\n",
    "import os\n",
    "os.environ[\"NUMBA_DISABLE_JIT\"] = \"1\""
   ]
  },
  {
   "cell_type": "code",
   "execution_count": 2,
   "id": "183a18ff-583e-4637-a87f-da84e344de9d",
   "metadata": {},
   "outputs": [],
   "source": [
    "VALID_INP_SIGS = 362\n",
    "INP_SMPL_FREQ = 250\n",
    "\n",
    "inp_sigs = np.load('data/steinbrinker/testing_data_mvg_avg.npy')[:, :VALID_INP_SIGS]\n",
    "dictionary = np.load('data/steinbrinker/dictionary_BW_real_data.npy')\n",
    "bw = np.load('data/generated/BW_noise.npy')\n",
    "\n",
    "file_name = 'BW_master_10000_2024-04-07-12-43-32.pkl'\n",
    "with open(f'data/generated/{file_name}', 'rb') as handle:\n",
    "    gen_data = pkl.load(handle)"
   ]
  },
  {
   "cell_type": "code",
   "execution_count": 3,
   "id": "3ab50c11-a50e-4dad-9804-a20e56b1af69",
   "metadata": {},
   "outputs": [],
   "source": [
    "gen_data_size = gen_data['params']['GEN_DATA_SIZE']\n",
    "inp_smpl_freq = gen_data['params']['INP_SMPL_FREQ']\n",
    "gen_sig_secs = gen_data['params']['GEN_SIG_SECS']\n",
    "valid_inp_sigs = gen_data['params']['VALID_INP_SIGS']\n",
    "gen_sig_cuts = np.int_(gen_data['data'])\n",
    "gen_sig_len = inp_smpl_freq * gen_sig_secs\n",
    "lambda_param = 0.001\n",
    "max_iters = 20"
   ]
  },
  {
   "cell_type": "code",
   "execution_count": 4,
   "id": "4b57297f-77f9-49e4-89d8-32c7651da961",
   "metadata": {},
   "outputs": [],
   "source": [
    "start_idx = 0\n",
    "end_idx = 1"
   ]
  },
  {
   "cell_type": "code",
   "execution_count": 5,
   "id": "0287fd6a-58f2-41a6-8c4d-a7b7a919238e",
   "metadata": {},
   "outputs": [
    {
     "name": "stderr",
     "output_type": "stream",
     "text": [
      "100%|████████████████████████████████████████████████████████████████████████████████████| 1/1 [00:13<00:00, 13.59s/it]\n"
     ]
    }
   ],
   "source": [
    "alphas = np.zeros((end_idx - start_idx, dictionary.shape[1]))\n",
    "for i in tqdm(range(end_idx - start_idx)):\n",
    "    target = inp_sigs[gen_sig_cuts[1, start_idx+i]:gen_sig_cuts[1, start_idx+i]+gen_sig_len, gen_sig_cuts[0, start_idx+i]]\n",
    "    noise = bw[gen_sig_cuts[2, start_idx+i]:gen_sig_cuts[2, start_idx+i]+gen_sig_len]\n",
    "    alphas[i, :] = BPDN(target + noise, dictionary, lambda_param=lambda_param, max_iters=max_iters)[1]"
   ]
  },
  {
   "cell_type": "code",
   "execution_count": 6,
   "id": "85e4bec0-7d88-47d4-a552-2193799d2023",
   "metadata": {},
   "outputs": [
    {
     "data": {
      "text/plain": [
       "[<matplotlib.lines.Line2D at 0x2e55fa3ee50>]"
      ]
     },
     "execution_count": 6,
     "metadata": {},
     "output_type": "execute_result"
    },
    {
     "data": {
      "image/png": "[encoded data removed]",
      "text/plain": [
       "<Figure size 640x480 with 1 Axes>"
      ]
     },
     "metadata": {},
     "output_type": "display_data"
    }
   ],
   "source": [
    "plt.plot(alphas[0])"
   ]
  },
  {
   "cell_type": "code",
   "execution_count": 7,
   "id": "4f2bb690-7845-4f3a-b84b-6ba7d0723eee",
   "metadata": {},
   "outputs": [],
   "source": [
    "fista = skglm.solvers.FISTA(max_iter=100, tol=0.0001, opt_strategy='subdiff', verbose=0)"
   ]
  },
  {
   "cell_type": "code",
   "execution_count": 8,
   "id": "1309152e-b407-4dff-b269-363add829452",
   "metadata": {},
   "outputs": [],
   "source": [
    "l1_penalty = skglm.penalties.L1(alpha=.1)"
   ]
  },
  {
   "cell_type": "code",
   "execution_count": 9,
   "id": "a5c11b5e-5bdb-4825-8423-f422b5f04d58",
   "metadata": {},
   "outputs": [],
   "source": [
    "quadratic_datafit = skglm.datafits.Quadratic()\n",
    "# quadratic_datafit.Xty=dictionary.T@(target+noise)"
   ]
  },
  {
   "cell_type": "code",
   "execution_count": 10,
   "id": "9560b518-f17e-488d-b5e6-3760a46b0725",
   "metadata": {
    "scrolled": true
   },
   "outputs": [
    {
     "ename": "TypingError",
     "evalue": "Failed in nopython mode pipeline (step: nopython frontend)\n\u001b[1m\u001b[1mnon-precise type pyobject\u001b[0m\n\u001b[0m\u001b[1mDuring: typing of argument at C:\\Users\\galig\\AppData\\Local\\Packages\\PythonSoftwareFoundation.Python.3.11_qbz5n2kfra8p0\\LocalCache\\local-packages\\Python311\\site-packages\\skglm\\solvers\\common.py (47)\u001b[0m\n\u001b[1m\nFile \"..\\..\\..\\AppData\\Local\\Packages\\PythonSoftwareFoundation.Python.3.11_qbz5n2kfra8p0\\LocalCache\\local-packages\\Python311\\site-packages\\skglm\\solvers\\common.py\", line 47:\u001b[0m\n\u001b[1mdef dist_fix_point_cd(w, grad_ws, lipschitz, datafit, penalty, ws):\n    <source elided>\n\n\u001b[1m@njit\n\u001b[0m\u001b[1m^\u001b[0m\u001b[0m \n\nThis error may have been caused by the following argument(s):\n- argument 4: \u001b[1mCannot determine Numba type of <class 'skglm.datafits.single_task.Quadratic'>\u001b[0m\n",
     "output_type": "error",
     "traceback": [
      "\u001b[1;31m---------------------------------------------------------------------------\u001b[0m",
      "\u001b[1;31mTypingError\u001b[0m                               Traceback (most recent call last)",
      "Cell \u001b[1;32mIn[10], line 1\u001b[0m\n\u001b[1;32m----> 1\u001b[0m \u001b[43mfista\u001b[49m\u001b[38;5;241;43m.\u001b[39;49m\u001b[43msolve\u001b[49m\u001b[43m(\u001b[49m\u001b[43mdictionary\u001b[49m\u001b[43m,\u001b[49m\u001b[43m \u001b[49m\u001b[43mnp\u001b[49m\u001b[38;5;241;43m.\u001b[39;49m\u001b[43mexpand_dims\u001b[49m\u001b[43m(\u001b[49m\u001b[43mtarget\u001b[49m\u001b[43m,\u001b[49m\u001b[43m \u001b[49m\u001b[38;5;241;43m0\u001b[39;49m\u001b[43m)\u001b[49m\u001b[43m \u001b[49m\u001b[38;5;241;43m+\u001b[39;49m\u001b[43m \u001b[49m\u001b[43mnp\u001b[49m\u001b[38;5;241;43m.\u001b[39;49m\u001b[43mexpand_dims\u001b[49m\u001b[43m(\u001b[49m\u001b[43mnoise\u001b[49m\u001b[43m,\u001b[49m\u001b[43m \u001b[49m\u001b[38;5;241;43m0\u001b[39;49m\u001b[43m)\u001b[49m\u001b[43m,\u001b[49m\u001b[43m \u001b[49m\u001b[43mquadratic_datafit\u001b[49m\u001b[43m,\u001b[49m\u001b[43m \u001b[49m\u001b[43ml1_penalty\u001b[49m\u001b[43m)\u001b[49m\n",
      "File \u001b[1;32m~\\AppData\\Local\\Packages\\PythonSoftwareFoundation.Python.3.11_qbz5n2kfra8p0\\LocalCache\\local-packages\\Python311\\site-packages\\skglm\\solvers\\fista.py:79\u001b[0m, in \u001b[0;36mFISTA.solve\u001b[1;34m(self, X, y, datafit, penalty, w_init, Xw_init)\u001b[0m\n\u001b[0;32m     77\u001b[0m         grad \u001b[38;5;241m=\u001b[39m datafit\u001b[38;5;241m.\u001b[39mgradient(X, y, X \u001b[38;5;241m@\u001b[39m z)\n\u001b[0;32m     78\u001b[0m     \u001b[38;5;28;01melse\u001b[39;00m:\n\u001b[1;32m---> 79\u001b[0m         grad \u001b[38;5;241m=\u001b[39m \u001b[43mconstruct_grad\u001b[49m\u001b[43m(\u001b[49m\u001b[43mX\u001b[49m\u001b[43m,\u001b[49m\u001b[43m \u001b[49m\u001b[43my\u001b[49m\u001b[43m,\u001b[49m\u001b[43m \u001b[49m\u001b[43mz\u001b[49m\u001b[43m,\u001b[49m\u001b[43m \u001b[49m\u001b[43mX\u001b[49m\u001b[43m \u001b[49m\u001b[38;5;241;43m@\u001b[39;49m\u001b[43m \u001b[49m\u001b[43mz\u001b[49m\u001b[43m,\u001b[49m\u001b[43m \u001b[49m\u001b[43mdatafit\u001b[49m\u001b[43m,\u001b[49m\u001b[43m \u001b[49m\u001b[43mall_features\u001b[49m\u001b[43m)\u001b[49m\n\u001b[0;32m     81\u001b[0m step \u001b[38;5;241m=\u001b[39m \u001b[38;5;241m1\u001b[39m \u001b[38;5;241m/\u001b[39m lipschitz\n\u001b[0;32m     82\u001b[0m z \u001b[38;5;241m-\u001b[39m\u001b[38;5;241m=\u001b[39m step \u001b[38;5;241m*\u001b[39m grad\n",
      "File \u001b[1;32m~\\AppData\\Local\\Packages\\PythonSoftwareFoundation.Python.3.11_qbz5n2kfra8p0\\LocalCache\\local-packages\\Python311\\site-packages\\numba\\core\\dispatcher.py:468\u001b[0m, in \u001b[0;36m_DispatcherBase._compile_for_args\u001b[1;34m(self, *args, **kws)\u001b[0m\n\u001b[0;32m    464\u001b[0m         msg \u001b[38;5;241m=\u001b[39m (\u001b[38;5;124mf\u001b[39m\u001b[38;5;124m\"\u001b[39m\u001b[38;5;132;01m{\u001b[39;00m\u001b[38;5;28mstr\u001b[39m(e)\u001b[38;5;241m.\u001b[39mrstrip()\u001b[38;5;132;01m}\u001b[39;00m\u001b[38;5;124m \u001b[39m\u001b[38;5;130;01m\\n\u001b[39;00m\u001b[38;5;130;01m\\n\u001b[39;00m\u001b[38;5;124mThis error may have been caused \u001b[39m\u001b[38;5;124m\"\u001b[39m\n\u001b[0;32m    465\u001b[0m                \u001b[38;5;124mf\u001b[39m\u001b[38;5;124m\"\u001b[39m\u001b[38;5;124mby the following argument(s):\u001b[39m\u001b[38;5;130;01m\\n\u001b[39;00m\u001b[38;5;132;01m{\u001b[39;00margs_str\u001b[38;5;132;01m}\u001b[39;00m\u001b[38;5;130;01m\\n\u001b[39;00m\u001b[38;5;124m\"\u001b[39m)\n\u001b[0;32m    466\u001b[0m         e\u001b[38;5;241m.\u001b[39mpatch_message(msg)\n\u001b[1;32m--> 468\u001b[0m     \u001b[43merror_rewrite\u001b[49m\u001b[43m(\u001b[49m\u001b[43me\u001b[49m\u001b[43m,\u001b[49m\u001b[43m \u001b[49m\u001b[38;5;124;43m'\u001b[39;49m\u001b[38;5;124;43mtyping\u001b[39;49m\u001b[38;5;124;43m'\u001b[39;49m\u001b[43m)\u001b[49m\n\u001b[0;32m    469\u001b[0m \u001b[38;5;28;01mexcept\u001b[39;00m errors\u001b[38;5;241m.\u001b[39mUnsupportedError \u001b[38;5;28;01mas\u001b[39;00m e:\n\u001b[0;32m    470\u001b[0m     \u001b[38;5;66;03m# Something unsupported is present in the user code, add help info\u001b[39;00m\n\u001b[0;32m    471\u001b[0m     error_rewrite(e, \u001b[38;5;124m'\u001b[39m\u001b[38;5;124munsupported_error\u001b[39m\u001b[38;5;124m'\u001b[39m)\n",
      "File \u001b[1;32m~\\AppData\\Local\\Packages\\PythonSoftwareFoundation.Python.3.11_qbz5n2kfra8p0\\LocalCache\\local-packages\\Python311\\site-packages\\numba\\core\\dispatcher.py:409\u001b[0m, in \u001b[0;36m_DispatcherBase._compile_for_args.<locals>.error_rewrite\u001b[1;34m(e, issue_type)\u001b[0m\n\u001b[0;32m    407\u001b[0m     \u001b[38;5;28;01mraise\u001b[39;00m e\n\u001b[0;32m    408\u001b[0m \u001b[38;5;28;01melse\u001b[39;00m:\n\u001b[1;32m--> 409\u001b[0m     \u001b[38;5;28;01mraise\u001b[39;00m e\u001b[38;5;241m.\u001b[39mwith_traceback(\u001b[38;5;28;01mNone\u001b[39;00m)\n",
      "\u001b[1;31mTypingError\u001b[0m: Failed in nopython mode pipeline (step: nopython frontend)\n\u001b[1m\u001b[1mnon-precise type pyobject\u001b[0m\n\u001b[0m\u001b[1mDuring: typing of argument at C:\\Users\\galig\\AppData\\Local\\Packages\\PythonSoftwareFoundation.Python.3.11_qbz5n2kfra8p0\\LocalCache\\local-packages\\Python311\\site-packages\\skglm\\solvers\\common.py (47)\u001b[0m\n\u001b[1m\nFile \"..\\..\\..\\AppData\\Local\\Packages\\PythonSoftwareFoundation.Python.3.11_qbz5n2kfra8p0\\LocalCache\\local-packages\\Python311\\site-packages\\skglm\\solvers\\common.py\", line 47:\u001b[0m\n\u001b[1mdef dist_fix_point_cd(w, grad_ws, lipschitz, datafit, penalty, ws):\n    <source elided>\n\n\u001b[1m@njit\n\u001b[0m\u001b[1m^\u001b[0m\u001b[0m \n\nThis error may have been caused by the following argument(s):\n- argument 4: \u001b[1mCannot determine Numba type of <class 'skglm.datafits.single_task.Quadratic'>\u001b[0m\n"
     ]
    }
   ],
   "source": [
    "fista.solve(dictionary, np.expand_dims(target, 0) + np.expand_dims(noise, 0), quadratic_datafit, l1_penalty)"
   ]
  },
  {
   "cell_type": "code",
   "execution_count": null,
   "id": "a5a28f46-d8bd-4e0f-a322-20317940b6af",
   "metadata": {},
   "outputs": [],
   "source": [
    "alphas_fista = np.zeros((end_idx - start_idx, dictionary.shape[1]))\n",
    "for i in tqdm(range(end_idx - start_idx)):\n",
    "    target = inp_sigs[gen_sig_cuts[1, start_idx+i]:gen_sig_cuts[1, start_idx+i]+gen_sig_len, gen_sig_cuts[0, start_idx+i]]\n",
    "    noise = bw[gen_sig_cuts[2, start_idx+i]:gen_sig_cuts[2, start_idx+i]+gen_sig_len]\n",
    "    alphas_fista[i, :] = fista.fit(dictionary, target + noise, datafit, l1_penalty)[1]"
   ]
  },
  {
   "cell_type": "code",
   "execution_count": 42,
   "id": "ab28768e-d5e5-467c-9b59-13f317054507",
   "metadata": {},
   "outputs": [
    {
     "data": {
      "text/plain": [
       "(2500,)"
      ]
     },
     "execution_count": 42,
     "metadata": {},
     "output_type": "execute_result"
    }
   ],
   "source": [
    "target.shape"
   ]
  },
  {
   "cell_type": "code",
   "execution_count": 43,
   "id": "f4d7a1cb-e87d-4044-99f2-5ac990b75059",
   "metadata": {},
   "outputs": [
    {
     "data": {
      "text/plain": [
       "(2500, 100)"
      ]
     },
     "execution_count": 43,
     "metadata": {},
     "output_type": "execute_result"
    }
   ],
   "source": [
    "dictionary.shape"
   ]
  },
  {
   "cell_type": "code",
   "execution_count": null,
   "id": "501f202c-65d8-4701-a58f-64a4908c8d77",
   "metadata": {},
   "outputs": [],
   "source": []
  }
 ],
 "metadata": {
  "kernelspec": {
   "display_name": "Python 3 (ipykernel)",
   "language": "python",
   "name": "python3"
  },
  "language_info": {
   "codemirror_mode": {
    "name": "ipython",
    "version": 3
   },
   "file_extension": ".py",
   "mimetype": "text/x-python",
   "name": "python",
   "nbconvert_exporter": "python",
   "pygments_lexer": "ipython3",
   "version": "3.11.9"
  }
 },
 "nbformat": 4,
 "nbformat_minor": 5
}
