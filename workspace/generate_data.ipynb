{
 "cells": [
  {
   "cell_type": "code",
   "execution_count": 1,
   "id": "e85b09bc-0ca6-4ca1-aa41-7ed484a81bbc",
   "metadata": {},
   "outputs": [],
   "source": [
    "import numpy as np\n",
    "import wfdb\n",
    "from wfdb import processing\n",
    "import matplotlib.pyplot as plt\n",
    "from tqdm import tqdm\n",
    "from src.steinbrinker.BPDN import BPDN\n",
    "import pickle as pkl\n",
    "from os.path import join as pjoin\n",
    "from datetime import datetime"
   ]
  },
  {
   "cell_type": "code",
   "execution_count": 16,
   "id": "fad3e187-9260-4a6e-aeae-4d8e327068f2",
   "metadata": {},
   "outputs": [],
   "source": [
    "GEN_DATA_SIZE = 10000\n",
    "INP_SMPL_FREQ = 250\n",
    "GEN_SIG_SECS  = 10\n",
    "VALID_INP_SIGS = 362"
   ]
  },
  {
   "cell_type": "code",
   "execution_count": 17,
   "id": "61033501-ad1c-4d77-bb3e-f5d8b6228b9d",
   "metadata": {},
   "outputs": [],
   "source": [
    "inp_sigs = np.load('data/steinbrinker/testing_data_mvg_avg.npy')[:, :VALID_INP_SIGS]"
   ]
  },
  {
   "cell_type": "code",
   "execution_count": 18,
   "id": "e59bfdfc-8e3e-4a19-bab1-fba0b919a859",
   "metadata": {},
   "outputs": [],
   "source": [
    "bw = wfdb.rdrecord('data/mit-bih/bw')"
   ]
  },
  {
   "cell_type": "code",
   "execution_count": 19,
   "id": "99a3a430-7cf2-4870-9d3c-15c3252c4cc5",
   "metadata": {},
   "outputs": [],
   "source": [
    "dictionary = np.load('data/steinbrinker/dictionary_BW_real_data.npy')"
   ]
  },
  {
   "cell_type": "code",
   "execution_count": 20,
   "id": "0eab95c4-d343-4e54-a1a7-30b809a08ed3",
   "metadata": {},
   "outputs": [],
   "source": [
    "bw, _ = processing.resample_sig(bw.p_signal[:, 1], bw.fs, INP_SMPL_FREQ)"
   ]
  },
  {
   "cell_type": "code",
   "execution_count": 21,
   "id": "f60a2fd4-8a25-4717-a367-b5c3a3c96d67",
   "metadata": {},
   "outputs": [],
   "source": [
    "gen_sig_len = INP_SMPL_FREQ * GEN_SIG_SECS\n",
    "max_rand_cut_trg = inp_sigs.shape[0] - gen_sig_len\n",
    "max_rand_cut_inp = bw.shape[0] - gen_sig_len"
   ]
  },
  {
   "cell_type": "markdown",
   "id": "8b4b1475-6fdd-491b-8e77-c3210cfc22d8",
   "metadata": {},
   "source": [
    "## Baseline Wander - without initial BPDN estimate - saving only cut indeces"
   ]
  },
  {
   "cell_type": "code",
   "execution_count": 7,
   "id": "6823e93a-d028-4fe6-8eb1-195d5bc72231",
   "metadata": {},
   "outputs": [
    {
     "name": "stderr",
     "output_type": "stream",
     "text": [
      "100%|█████████████████████████████████████████████████████████████████████████| 10000/10000 [00:00<00:00, 62466.18it/s]\n"
     ]
    }
   ],
   "source": [
    "gen_sigs = np.zeros([3, GEN_DATA_SIZE])\n",
    "for i in tqdm(range(GEN_DATA_SIZE)):\n",
    "    # TARGET: choose a random input signal\n",
    "    gen_sigs[0, i] = np.random.randint(inp_sigs.shape[1])\n",
    "    # TARGET: cut chosen signal at random location\n",
    "    gen_sigs[1, i] = np.random.randint(max_rand_cut_trg)\n",
    "    # INPUT: cut BW noise at random location to be added to the target signal\n",
    "    gen_sigs[2, i] = np.random.randint(max_rand_cut_inp)"
   ]
  },
  {
   "cell_type": "code",
   "execution_count": 8,
   "id": "6fe66a41-e475-43d3-a461-43a13f22b933",
   "metadata": {},
   "outputs": [],
   "source": [
    "pkl_outp = {\n",
    "    'params': {\n",
    "        'GEN_DATA_SIZE': GEN_DATA_SIZE,\n",
    "        'INP_SMPL_FREQ': INP_SMPL_FREQ,\n",
    "        'GEN_SIG_SECS': GEN_SIG_SECS,\n",
    "        'VALID_INP_SIGS': VALID_INP_SIGS\n",
    "    },\n",
    "    'data': gen_sigs\n",
    "}"
   ]
  },
  {
   "cell_type": "code",
   "execution_count": 9,
   "id": "68e1a136-32f8-45f3-8cdd-d12f1667708b",
   "metadata": {},
   "outputs": [],
   "source": [
    "dt = datetime.now().strftime('%Y-%m-%d-%H-%M-%S')\n",
    "with open(f'data/generated/BW_master_{GEN_DATA_SIZE}_{dt}.pkl', 'wb') as handle:\n",
    "    pkl.dump(pkl_outp, handle, protocol=pkl.HIGHEST_PROTOCOL)"
   ]
  },
  {
   "cell_type": "markdown",
   "id": "f7b987c8-be11-4f7a-a666-8e0976585d80",
   "metadata": {},
   "source": [
    "## Generate BPDN estimates for generated index data"
   ]
  },
  {
   "cell_type": "code",
   "execution_count": 13,
   "id": "51532e12-3e5f-479f-af9a-153e70a26e89",
   "metadata": {},
   "outputs": [],
   "source": [
    "file_name = 'BW_master_10000_2024-04-07-12-43-32.pkl'\n",
    "with open(f'data/generated/{file_name}', 'rb') as handle:\n",
    "    gen_data = pkl.load(handle)"
   ]
  },
  {
   "cell_type": "code",
   "execution_count": 10,
   "id": "a5266dee-cbee-41d0-bd50-e6611f6cee7b",
   "metadata": {},
   "outputs": [],
   "source": [
    "gen_data_size = gen_data['params']['GEN_DATA_SIZE']\n",
    "inp_smpl_freq = gen_data['params']['INP_SMPL_FREQ']\n",
    "gen_sig_secs = gen_data['params']['GEN_SIG_SECS']\n",
    "valid_inp_sigs = gen_data['params']['VALID_INP_SIGS']\n",
    "gen_sig_cuts = np.int_(gen_data['data'])\n",
    "gen_sig_len = inp_smpl_freq * gen_sig_secs\n",
    "lambda_param = 0.001"
   ]
  },
  {
   "cell_type": "code",
   "execution_count": 11,
   "id": "4d306f29-60a2-4713-aeb8-e19f4e054aa0",
   "metadata": {},
   "outputs": [],
   "source": [
    "start_idx = 0\n",
    "end_idx = 7000"
   ]
  },
  {
   "cell_type": "code",
   "execution_count": 12,
   "id": "8215a8fc-682b-49a4-b14e-ecff8ac1ad86",
   "metadata": {},
   "outputs": [
    {
     "name": "stderr",
     "output_type": "stream",
     "text": [
      "100%|███████████████████████████████████████████████████████████████████████████| 7000/7000 [24:56:11<00:00, 12.82s/it]\n"
     ]
    }
   ],
   "source": [
    "alphas = np.zeros((end_idx - start_idx, dictionary.shape[1]))\n",
    "for i in tqdm(range(end_idx - start_idx)):\n",
    "    target = inp_sigs[gen_sig_cuts[1, start_idx+i]:gen_sig_cuts[1, start_idx+i]+gen_sig_len, gen_sig_cuts[0, start_idx+i]]\n",
    "    noise = bw[gen_sig_cuts[2, start_idx+i]:gen_sig_cuts[2, start_idx+i]+gen_sig_len]\n",
    "    alphas[i, :] = BPDN(target + noise, dictionary, lambda_param=lambda_param)[1]"
   ]
  },
  {
   "cell_type": "code",
   "execution_count": 13,
   "id": "17e2ba9e-f88b-4dae-bc4e-3528a97fd8b3",
   "metadata": {},
   "outputs": [],
   "source": [
    "outp_fname = file_name.replace('_master_', '_alphas-BPDN_').replace('.pkl', '.npy').replace('_10000_', f'_{start_idx}-{end_idx}_')\n",
    "np.save(f'data/generated/{outp_fname}', alphas)"
   ]
  },
  {
   "cell_type": "markdown",
   "id": "c67a2526-3f4b-4cdd-83db-34a52662ebb5",
   "metadata": {},
   "source": [
    "## Merge partial generated BPDN files"
   ]
  },
  {
   "cell_type": "code",
   "execution_count": 4,
   "id": "09a8e8a2-f004-45bc-90e1-0ca0be16e7aa",
   "metadata": {},
   "outputs": [],
   "source": [
    "data_path = 'data/generated'\n",
    "file_names = ['BW_alphas-BPDN_0-7000_2024-04-07-12-43-32.npy', 'BW_alphas-BPDN_7000-10000_2024-04-07-12-43-32.npy']\n",
    "merged_name = 'BW_alphas-BPDN_2024-04-07-12-43-32.npy'"
   ]
  },
  {
   "cell_type": "code",
   "execution_count": 10,
   "id": "ef8bd5c2-4e0e-40af-a86b-44d1efb1e907",
   "metadata": {},
   "outputs": [],
   "source": [
    "res_merged = np.concatenate([np.load(pjoin(data_path, fn)) for fn in file_names])"
   ]
  },
  {
   "cell_type": "code",
   "execution_count": 11,
   "id": "10f77c63-e86e-45fb-a6be-84d3e903509c",
   "metadata": {},
   "outputs": [],
   "source": [
    "np.save(pjoin(data_path, merged_name), res_merged)"
   ]
  },
  {
   "cell_type": "markdown",
   "id": "edef4794-7ede-4ee1-965e-8b4d1c7a8e74",
   "metadata": {},
   "source": [
    "## Verify syncronization of generated data"
   ]
  },
  {
   "cell_type": "code",
   "execution_count": 26,
   "id": "b784b070-b986-4ba3-a2b9-264078f6416d",
   "metadata": {},
   "outputs": [],
   "source": [
    "gen_sigs = np.int_(gen_sigs)"
   ]
  },
  {
   "cell_type": "code",
   "execution_count": 42,
   "id": "fe320b98-65a7-4e4b-aaf7-e340fdce629e",
   "metadata": {},
   "outputs": [],
   "source": [
    "i = 9000\n",
    "to_plot = np.zeros((3, 2500))\n",
    "to_plot[2, :] = inp_sigs[gen_sigs[1, i]:gen_sigs[1, i]+gen_sig_len, gen_sigs[0, i]]\n",
    "to_plot[0, :] = to_plot[2, :] + bw[gen_sigs[2, i]:gen_sigs[2, i]+gen_sig_len]\n",
    "to_plot[1, :] = to_plot[0, :] - dictionary@res_merged[i, :]"
   ]
  },
  {
   "cell_type": "code",
   "execution_count": 43,
   "id": "c99f4d56-3314-40ab-b828-a318718e2ced",
   "metadata": {},
   "outputs": [
    {
     "data": {
      "text/plain": [
       "<matplotlib.legend.Legend at 0x1ffba1ed0d0>"
      ]
     },
     "execution_count": 43,
     "metadata": {},
     "output_type": "execute_result"
    },
    {
     "data": {
      "image/png": "[encoded data removed]",
      "text/plain": [
       "<Figure size 640x480 with 1 Axes>"
      ]
     },
     "metadata": {},
     "output_type": "display_data"
    }
   ],
   "source": [
    "plt.plot(to_plot.T)\n",
    "plt.legend(labels=['noisy signal', 'cleaned signal', 'target'])"
   ]
  },
  {
   "cell_type": "markdown",
   "id": "5c95d97a-0039-4410-9f97-16bd2e68cff2",
   "metadata": {},
   "source": [
    "## Baseline Wander - without initial BPDN estimate"
   ]
  },
  {
   "cell_type": "code",
   "execution_count": 10,
   "id": "9bbe9ccf-c53a-44ba-8c36-6d1f05b6f169",
   "metadata": {
    "scrolled": true
   },
   "outputs": [
    {
     "name": "stderr",
     "output_type": "stream",
     "text": [
      "100%|██████████████████████████████████████████████████████████████████████████| 10000/10000 [00:02<00:00, 3517.28it/s]\n"
     ]
    }
   ],
   "source": [
    "gen_sigs = np.zeros([2, gen_sig_len, GEN_DATA_SIZE])\n",
    "for i in tqdm(range(GEN_DATA_SIZE)):\n",
    "    # TARGET: take a random part of a random imput signal\n",
    "    rand_sig = np.random.randint(inp_sigs.shape[1])\n",
    "    rand_cut = np.random.randint(max_rand_cut_trg)\n",
    "    gen_sigs[1, :, i] = inp_sigs[rand_cut:rand_cut+gen_sig_len, rand_sig]\n",
    "\n",
    "    # INPUT: add random BW noise to the target signal\n",
    "    rand_cut = np.random.randint(max_rand_cut_inp)\n",
    "    gen_sigs[0, :, i] = gen_sigs[1, :, i] + bw[rand_cut:rand_cut+gen_sig_len]"
   ]
  },
  {
   "cell_type": "code",
   "execution_count": 11,
   "id": "01ad5e2a-fc36-4a55-aeac-6fc543906eb3",
   "metadata": {},
   "outputs": [],
   "source": [
    "np.save('data/large/BW_gen_data_master.npy', gen_sigs)"
   ]
  },
  {
   "cell_type": "markdown",
   "id": "894e5889-e637-436f-9e83-f90dbaf1e197",
   "metadata": {},
   "source": [
    "## Baseline Wander - with initial BPDN estimate"
   ]
  },
  {
   "cell_type": "code",
   "execution_count": 13,
   "id": "a71c4a2e-6558-49d1-9a17-411052156091",
   "metadata": {},
   "outputs": [],
   "source": [
    "GEN_DATA_SIZE = 10\n",
    "thresh = 1e-6\n",
    "lambda_param = 1"
   ]
  },
  {
   "cell_type": "code",
   "execution_count": 14,
   "id": "54b93f8d-7e5a-42fa-adce-3f0cbdaf7ead",
   "metadata": {},
   "outputs": [
    {
     "name": "stderr",
     "output_type": "stream",
     "text": [
      "100%|██████████████████████████████████████████████████████████████████████████████████| 10/10 [02:32<00:00, 15.26s/it]\n"
     ]
    }
   ],
   "source": [
    "gen_sigs = np.zeros([3, gen_sig_len, GEN_DATA_SIZE])\n",
    "for i in tqdm(range(GEN_DATA_SIZE)):\n",
    "    # TARGET: take a random part of a random imput signal\n",
    "    rand_sig = np.random.randint(inp_sigs.shape[1])\n",
    "    rand_cut = np.random.randint(max_rand_cut_trg)\n",
    "    gen_sigs[2, :, i] = inp_sigs[rand_cut:rand_cut+gen_sig_len, rand_sig]\n",
    "\n",
    "    # INPUT: add random BW noise to the target signal\n",
    "    rand_cut = np.random.randint(max_rand_cut_inp)\n",
    "    gen_sigs[0, :, i] = gen_sigs[2, :, i] + bw[rand_cut:rand_cut+gen_sig_len]\n",
    "\n",
    "    # ESTIMATE: perform BPDN on noisy input signal\n",
    "    alpha = BPDN(gen_sigs[0, :, i], dictionary, lambda_param=lambda_param)[1]\n",
    "    alpha[np.abs(alpha) < thresh] = 0\n",
    "    gen_sigs[1, :, i] = gen_sigs[0, :, i] - dictionary@alpha"
   ]
  },
  {
   "cell_type": "code",
   "execution_count": 15,
   "id": "ee54a5a8-42ae-4b16-9115-ae4220497dd0",
   "metadata": {},
   "outputs": [],
   "source": [
    "np.save('data/large/BW_gen_data_est_master.npy', gen_sigs)"
   ]
  },
  {
   "cell_type": "code",
   "execution_count": null,
   "id": "784ae7c0-a3e3-477a-80ee-7d61a45f28d1",
   "metadata": {},
   "outputs": [],
   "source": []
  }
 ],
 "metadata": {
  "kernelspec": {
   "display_name": "Python 3 (ipykernel)",
   "language": "python",
   "name": "python3"
  },
  "language_info": {
   "codemirror_mode": {
    "name": "ipython",
    "version": 3
   },
   "file_extension": ".py",
   "mimetype": "text/x-python",
   "name": "python",
   "nbconvert_exporter": "python",
   "pygments_lexer": "ipython3",
   "version": "3.11.9"
  }
 },
 "nbformat": 4,
 "nbformat_minor": 5
}
