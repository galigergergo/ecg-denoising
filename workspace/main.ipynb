{
 "cells": [
  {
   "cell_type": "code",
   "execution_count": 1,
   "id": "c7baaefd-888e-4894-9776-d7291899f1e0",
   "metadata": {},
   "outputs": [],
   "source": [
    "from src.fistanet.M5FISTANet import FISTANet\n",
    "from src.fistanet.loader import DataSplit\n",
    "from src.fistanet.solver import Solver\n",
    "from os.path import join as pjoin\n",
    "from torchsummary import summary\n",
    "import numpy as np\n",
    "import torch"
   ]
  },
  {
   "cell_type": "code",
   "execution_count": 2,
   "id": "9846d1b1-46fe-471c-b4a9-93e7a8ce0ebf",
   "metadata": {},
   "outputs": [],
   "source": [
    "DATA_DIR = './data'\n",
    "DATA_FILE_GEN = 'generated/BW_master_10000_2024-04-07-12-43-32.pkl'\n",
    "DATA_FILE_SIGS = 'steinbrinker/testing_data_mvg_avg.npy'\n",
    "DATA_FILE_BW = 'mit-bih/bw'\n",
    "DICT_FILE_BW = 'steinbrinker/dictionary_BW_real_data.npy'\n",
    "DATA_SIZE = 10000\n",
    "BATCH_SIZE = 1000\n",
    "TVT_SPLIT = {\n",
    "    'train': 80,\n",
    "    'valid': 10,\n",
    "    'test': 10\n",
    "}\n",
    "\n",
    "FNET_LAYER_NO = 4\n",
    "FNET_FEATURE_NO = 16\n",
    "\n",
    "EPOCH_NO = 100\n",
    "START_EPOCH = 0\n",
    "TEST_EPOCH = 9\n",
    "LR_DEC_AFTER = 100\n",
    "LR_DEC_EVERY = 10"
   ]
  },
  {
   "cell_type": "code",
   "execution_count": 3,
   "id": "74e188c4-1bdd-43bd-8fad-aa3c615aefbd",
   "metadata": {},
   "outputs": [
    {
     "name": "stdout",
     "output_type": "stream",
     "text": [
      "[[   204    168     77 ...     29    287     76]\n",
      " [  2224     92   1958 ...    424    664    654]\n",
      " [191075  31368  28690 ... 195792  12101 185303]]\n",
      "2224 4724 204\n",
      "[[   160    299    248 ...    260    192     17]\n",
      " [   962   1854   1740 ...   1696   2398   1221]\n",
      " [349827 140117 250945 ... 375091 419722 319834]]\n",
      "962 3462 160\n",
      "[[   176     75    274 ...    212    256    182]\n",
      " [  1954    211   1599 ...     99    825   1706]\n",
      " [118910 271756 293015 ... 161094 141988 404065]]\n",
      "1954 4454 176\n"
     ]
    }
   ],
   "source": [
    "trn_ldr, val_ldr, tst_ldr = DataSplit(DATA_DIR, DATA_FILE_GEN, DATA_FILE_SIGS, DATA_FILE_BW, TVT_SPLIT, BATCH_SIZE)"
   ]
  },
  {
   "cell_type": "code",
   "execution_count": 4,
   "id": "45bcd124-d0c4-4140-8607-2ed4ff8a8003",
   "metadata": {},
   "outputs": [],
   "source": [
    "device = torch.device(\"cuda\" if torch.cuda.is_available() else \"cpu\")"
   ]
  },
  {
   "cell_type": "code",
   "execution_count": 5,
   "id": "36276fd7-c4b4-49e2-859c-6d09d87aae9b",
   "metadata": {},
   "outputs": [],
   "source": [
    "Psi = np.load(pjoin(DATA_DIR, DICT_FILE_BW))\n",
    "Psi = torch.from_numpy(Psi)\n",
    "Psi = Psi.clone().detach().to(device=device)\n",
    "Psi = Psi.repeat((BATCH_SIZE, 1, 1))"
   ]
  },
  {
   "cell_type": "code",
   "execution_count": 6,
   "id": "03f7f9ea-e218-4790-84e8-caf0a10489d0",
   "metadata": {},
   "outputs": [],
   "source": [
    "fista_net = FISTANet(FNET_LAYER_NO, FNET_FEATURE_NO, Psi)\n",
    "fista_net = fista_net.to(device)# define arguments of fista_net\n"
   ]
  },
  {
   "cell_type": "code",
   "execution_count": 7,
   "id": "f12c4823-35ea-41b9-97a1-bf6746dc204d",
   "metadata": {},
   "outputs": [
    {
     "name": "stdout",
     "output_type": "stream",
     "text": [
      "Total number of parameters fista net: 18871\n"
     ]
    }
   ],
   "source": [
    "# summary(fista_net, input_size=(1, 64, 298), device=str(device))\n",
    "print('Total number of parameters fista net:',\n",
    "          sum(p.numel() for p in fista_net.parameters()))"
   ]
  },
  {
   "cell_type": "code",
   "execution_count": 8,
   "id": "3579c675-faba-4918-bffe-7a3ee0c8afd2",
   "metadata": {},
   "outputs": [],
   "source": [
    "args = {\n",
    "    'model_name': 'FISTANet',\n",
    "    'num_epochs': EPOCH_NO,\n",
    "    'lr': 1e-3,\n",
    "    'data_dir': DATA_DIR,\n",
    "    'save_path': './models/FISTANet/',\n",
    "    'start_epoch': START_EPOCH,\n",
    "    'multi_gpu': False,\n",
    "    'device': device,\n",
    "    'log_interval': 2,\n",
    "    'test_epoch': TEST_EPOCH,\n",
    "    'lr_dec_after': LR_DEC_AFTER,\n",
    "    'lr_dec_every': LR_DEC_EVERY\n",
    "}"
   ]
  },
  {
   "cell_type": "code",
   "execution_count": 9,
   "id": "37c787d6-372b-4189-b428-133486557995",
   "metadata": {},
   "outputs": [],
   "source": [
    "solver = Solver(fista_net, trn_ldr, val_ldr, BATCH_SIZE, args, tst_ldr)"
   ]
  },
  {
   "cell_type": "code",
   "execution_count": 10,
   "id": "3dba58ed-bcde-4a91-994f-1b69c8decd3e",
   "metadata": {},
   "outputs": [
    {
     "name": "stdout",
     "output_type": "stream",
     "text": [
      "Training epoch 1...\n",
      "\n",
      "Train Epoch: 1 [0/8000 (0%)]\tBatch Loss: 1178447.441050\tLearning Rate (w_theta): 0.001000\t TIME:4.9s\n",
      "\t\t\t\tDisc: 1178447.441050 \tConst: 730.669678\t\tSpars: 0.005083\n",
      "\t TVw: -0.501000 | TVb: -2.001000 | GSw: -0.201000 | GSb: 0.099000 | TSUw: 0.499000 | TSUb: 0.001000\n",
      "\n",
      "Train Epoch: 1 [2000/8000 (25%)]\tBatch Loss: 1106879.818205\tLearning Rate (w_theta): 0.001000\t TIME:13.4s\n",
      "\t\t\t\tDisc: 1106879.818205 \tConst: 689.427979\t\tSpars: 0.005688\n",
      "\t TVw: -0.502726 | TVb: -2.002721 | GSw: -0.202996 | GSb: 0.097004 | TSUw: 0.497004 | TSUb: 0.002996\n",
      "\n",
      "Train Epoch: 1 [4000/8000 (50%)]\tBatch Loss: 1180334.794905\tLearning Rate (w_theta): 0.001000\t TIME:21.6s\n",
      "\t\t\t\tDisc: 1180334.794905 \tConst: 763.093811\t\tSpars: 0.007276\n",
      "\t TVw: -0.504496 | TVb: -2.004486 | GSw: -0.204996 | GSb: 0.095004 | TSUw: 0.495003 | TSUb: 0.004996\n",
      "\n",
      "Train Epoch: 1 [6000/8000 (75%)]\tBatch Loss: 970120.940354\tLearning Rate (w_theta): 0.001000\t TIME:29.2s\n",
      "\t\t\t\tDisc: 970120.940354 \tConst: 619.137085\t\tSpars: 0.008914\n",
      "\t TVw: -0.506346 | TVb: -2.006331 | GSw: -0.206979 | GSb: 0.093021 | TSUw: 0.493020 | TSUb: 0.006977\n"
     ]
    },
    {
     "name": "stderr",
     "output_type": "stream",
     "text": [
      "\n",
      "KeyboardInterrupt\n",
      "\n"
     ]
    }
   ],
   "source": [
    "solver.train()"
   ]
  },
  {
   "cell_type": "code",
   "execution_count": null,
   "id": "4504e485-5480-4fae-a0e1-4382092f3fba",
   "metadata": {},
   "outputs": [],
   "source": []
  },
  {
   "cell_type": "code",
   "execution_count": null,
   "id": "b2a993b5-8bff-4192-8e0a-389d302c2c61",
   "metadata": {},
   "outputs": [],
   "source": []
  }
 ],
 "metadata": {
  "kernelspec": {
   "display_name": "Python 3 (ipykernel)",
   "language": "python",
   "name": "python3"
  },
  "language_info": {
   "codemirror_mode": {
    "name": "ipython",
    "version": 3
   },
   "file_extension": ".py",
   "mimetype": "text/x-python",
   "name": "python",
   "nbconvert_exporter": "python",
   "pygments_lexer": "ipython3",
   "version": "3.11.9"
  }
 },
 "nbformat": 4,
 "nbformat_minor": 5
}
