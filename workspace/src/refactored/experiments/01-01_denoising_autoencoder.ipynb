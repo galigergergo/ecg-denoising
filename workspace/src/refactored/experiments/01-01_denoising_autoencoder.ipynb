{
 "cells": [
  {
   "cell_type": "code",
   "execution_count": 1,
   "id": "ed402e43-c224-4c07-8b59-07eff24cf8aa",
   "metadata": {},
   "outputs": [],
   "source": [
    "import os\n",
    "import mlflow\n",
    "import torch\n",
    "import random\n",
    "import numpy as np\n",
    "from tqdm import tqdm\n",
    "import sys\n",
    "\n",
    "PROJECT_PATH = '/home/gergogaliger/PROJECTS/road_safety_analysis/frequency_analysis/model_development'\n",
    "SHARED_PROJECT_PATH = '/opt/jupyterhub/SHARED_PROJECTS/road_safety_analysis'\n",
    "\n",
    "sys.path.append(PROJECT_PATH)\n",
    "\n",
    "from src.utils.data_utils import read_mlflow_dataset\n",
    "from src.trainers.AETrainer import AETrainer\n",
    "\n",
    "RANDOM_SEED = 42\n",
    "\n",
    "mlflow.set_tracking_uri('http://clijupyter01.kozlek.local:4242')"
   ]
  },
  {
   "cell_type": "code",
   "execution_count": 2,
   "id": "7197ff3a-a079-4ada-a5db-8fed82ba5067",
   "metadata": {},
   "outputs": [],
   "source": [
    "experiment = mlflow.set_experiment('01-01_denoising_autoencoder')"
   ]
  },
  {
   "cell_type": "code",
   "execution_count": 3,
   "id": "f2583a42-d126-4d9c-9bfa-33814d84dca5",
   "metadata": {},
   "outputs": [
    {
     "name": "stderr",
     "output_type": "stream",
     "text": [
      "2024/06/24 18:15:19 WARNING mlflow.system_metrics.system_metrics_monitor: Skip logging GPU metrics because creating `GPUMonitor` failed with error: `pynvml` is not installed, to log GPU metrics please run `pip install pynvml` to install it..\n",
      "2024/06/24 18:15:19 INFO mlflow.system_metrics.system_metrics_monitor: Started monitoring system metrics.\n",
      "/opt/conda/envs/python3/lib/python3.11/site-packages/mlflow/data/dataset_source_registry.py:150: UserWarning: The specified dataset source can be interpreted in multiple ways: LocalArtifactDatasetSource, LocalArtifactDatasetSource. MLflow will assume that this is a LocalArtifactDatasetSource source.\n",
      "  return _dataset_source_registry.resolve(\n",
      "/opt/conda/envs/python3/lib/python3.11/site-packages/mlflow/data/digest_utils.py:26: FutureWarning: DataFrame.applymap has been deprecated. Use DataFrame.map instead.\n",
      "  string_columns = trimmed_df.columns[(df.applymap(type) == str).all(0)]\n",
      "/opt/conda/envs/python3/lib/python3.11/site-packages/mlflow/data/dataset_source_registry.py:150: UserWarning: The specified dataset source can be interpreted in multiple ways: LocalArtifactDatasetSource, LocalArtifactDatasetSource. MLflow will assume that this is a LocalArtifactDatasetSource source.\n",
      "  return _dataset_source_registry.resolve(\n",
      "/opt/conda/envs/python3/lib/python3.11/site-packages/mlflow/data/digest_utils.py:26: FutureWarning: DataFrame.applymap has been deprecated. Use DataFrame.map instead.\n",
      "  string_columns = trimmed_df.columns[(df.applymap(type) == str).all(0)]\n",
      "/opt/conda/envs/python3/lib/python3.11/site-packages/mlflow/data/dataset_source_registry.py:150: UserWarning: The specified dataset source can be interpreted in multiple ways: LocalArtifactDatasetSource, LocalArtifactDatasetSource. MLflow will assume that this is a LocalArtifactDatasetSource source.\n",
      "  return _dataset_source_registry.resolve(\n",
      "/opt/conda/envs/python3/lib/python3.11/site-packages/mlflow/data/digest_utils.py:26: FutureWarning: DataFrame.applymap has been deprecated. Use DataFrame.map instead.\n",
      "  string_columns = trimmed_df.columns[(df.applymap(type) == str).all(0)]\n",
      "100%|██████████| 1500/1500 [00:22<00:00, 66.25it/s]\n",
      "2024/06/24 18:15:47 INFO mlflow.system_metrics.system_metrics_monitor: Stopping system metrics monitoring...\n",
      "2024/06/24 18:15:47 INFO mlflow.system_metrics.system_metrics_monitor: Successfully terminated system metrics monitoring!\n"
     ]
    }
   ],
   "source": [
    "with mlflow.start_run(log_system_metrics=True) as run:\n",
    "    # Seed random generators to ensure deterministic experiments\n",
    "    random.seed(RANDOM_SEED)\n",
    "    np.random.seed(RANDOM_SEED)\n",
    "    torch.manual_seed(RANDOM_SEED)\n",
    "    torch.cuda.manual_seed(RANDOM_SEED)\n",
    "    torch.backends.cudnn.deterministic = True\n",
    "    torch.backends.cudnn.benchmark = False\n",
    "    \n",
    "    # Define PyTorch device\n",
    "    device = torch.device('cuda' if torch.cuda.is_available() else 'cpu')\n",
    "    \n",
    "    # Read and log train, validation and test datasets\n",
    "    data_date = '18-06-2024'\n",
    "    X_train, y_train, _ = read_mlflow_dataset(SHARED_PROJECT_PATH, data_date, 'train', targets='acc_no_23-24', device=device)\n",
    "    X_valid, y_valid, _ = read_mlflow_dataset(SHARED_PROJECT_PATH, data_date, 'validate', targets='acc_no_23-24', device=device)\n",
    "    X_test, y_test, non_accident_dim = read_mlflow_dataset(SHARED_PROJECT_PATH, data_date, 'test', targets='acc_no_23-24', device=device)\n",
    "    \n",
    "    # Specify and log training parameters\n",
    "    params = {\n",
    "        'inp_dim': non_accident_dim,\n",
    "        'noise_factor': 0.5,\n",
    "        'enc_dim': 4,\n",
    "        'learning_rate': 1e-2,\n",
    "        'weight_decay': 1e-8\n",
    "    }\n",
    "    mlflow.log_params(params)\n",
    "\n",
    "    # Define, train and evaluate model\n",
    "    trainer = AETrainer(**params)\n",
    "    trainer.train(X_train, y_train, X_valid, y_valid, 1500)\n",
    "    trainer.evaluate(X_test, y_test)"
   ]
  },
  {
   "cell_type": "code",
   "execution_count": null,
   "id": "3dbcbab3-5fd3-48ae-af7c-a24c557da719",
   "metadata": {},
   "outputs": [],
   "source": []
  }
 ],
 "metadata": {
  "kernelspec": {
   "display_name": "Python 3.11 (default)",
   "language": "python",
   "name": "python3"
  },
  "language_info": {
   "codemirror_mode": {
    "name": "ipython",
    "version": 3
   },
   "file_extension": ".py",
   "mimetype": "text/x-python",
   "name": "python",
   "nbconvert_exporter": "python",
   "pygments_lexer": "ipython3",
   "version": "3.11.5"
  }
 },
 "nbformat": 4,
 "nbformat_minor": 5
}
