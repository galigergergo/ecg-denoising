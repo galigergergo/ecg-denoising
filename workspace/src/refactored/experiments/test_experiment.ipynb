{
 "cells": [
  {
   "cell_type": "code",
   "execution_count": 1,
   "id": "ed402e43-c224-4c07-8b59-07eff24cf8aa",
   "metadata": {},
   "outputs": [],
   "source": [
    "import os\n",
    "import mlflow\n",
    "import torch\n",
    "import random\n",
    "import numpy as np\n",
    "from tqdm import tqdm\n",
    "from os.path import join as pjoin\n",
    "from datetime import datetime\n",
    "import sys\n",
    "\n",
    "PROJECT_PATH = 'C:\\\\Users\\\\galiger.gergo\\\\Desktop\\\\ecg-denoising\\\\workspace'\n",
    "PROJECT_SRC_PATH = os.path.join(PROJECT_PATH, 'src\\\\refactored')\n",
    "\n",
    "sys.path.append(PROJECT_SRC_PATH)\n",
    "\n",
    "from src.trainers.FISTANetTrainer import FISTANetTrainer\n",
    "from src.utils.loader import DataSplit\n",
    "\n",
    "RANDOM_SEED = 42\n",
    "\n",
    "mlflow.set_tracking_uri('http://localhost:8080')"
   ]
  },
  {
   "cell_type": "code",
   "execution_count": 2,
   "id": "593e2376",
   "metadata": {},
   "outputs": [],
   "source": [
    "DATA_DIR = os.path.join(PROJECT_PATH, 'data')\n",
    "DATA_FILE_GEN = 'generated/BW_master_10000_2024-04-07-12-43-32.pkl'\n",
    "DATA_FILE_SIGS = 'steinbrinker/testing_data_mvg_avg.npy'\n",
    "DATA_FILE_BW = 'mit-bih/bw'\n",
    "DATA_FILE_GAUSS = 'generated/gaussian_noise.npy'\n",
    "DATA_FILE_BPDN_MAX = 'generated/BW_alphas-BPDN_10000_2024-04-07-12-43-32.npy'\n",
    "DATA_FILE_BPDN = 'generated/BW_alphas-BPDN-1iters_10000_2024-04-07-12-43-32.npy'\n",
    "# DATA_FILE_BPDN = 'generated/BW_alphas-BPDN-3iters_10000_2024-04-07-12-43-32.npy'\n",
    "# DATA_FILE_BPDN = 'generated/BW_alphas-BPDN-5iters_10000_2024-04-07-12-43-32.npy'\n",
    "DATA_FILE_BPDN_FINAL = 'generated/BW_alphas-BPDN_10000_2024-04-07-12-43-32.npy'\n",
    "DICT_FILE_BW = 'steinbrinker/dictionary_BW_real_data.npy'\n",
    "NOISE_TYPE = 'bw'\n",
    "if NOISE_TYPE == 'bw':\n",
    "    DATA_FILE_NOISE = DATA_FILE_BW\n",
    "elif NOISE_TYPE == 'gauss':\n",
    "    DATA_FILE_NOISE = DATA_FILE_GAUSS\n",
    "DATA_SIZE = 10000\n",
    "BATCH_SIZE = 1000\n",
    "TVT_SPLIT = {\n",
    "    'train': 80,\n",
    "    'valid': 10,\n",
    "    'test': 10\n",
    "}\n",
    "\n",
    "FNET_LAYER_NO = 4\n",
    "FNET_FEATURE_NO = 16\n",
    "LAMBDA_SP_LOSS = 1e-2\n",
    "LAMBDA_PRED_SP_LOSS = 10\n",
    "LAMBDA_SYM_LOSS = 1e-3\n",
    "\n",
    "LR_DEC_AFTER = 15000\n",
    "LR_DEC_EVERY = 10\n",
    "LEARNING_RATE = 1e-3"
   ]
  },
  {
   "cell_type": "code",
   "execution_count": 3,
   "id": "7197ff3a-a079-4ada-a5db-8fed82ba5067",
   "metadata": {},
   "outputs": [],
   "source": [
    "experiment = mlflow.set_experiment('test_experiment')"
   ]
  },
  {
   "cell_type": "code",
   "execution_count": 4,
   "id": "f2583a42-d126-4d9c-9bfa-33814d84dca5",
   "metadata": {},
   "outputs": [
    {
     "name": "stderr",
     "output_type": "stream",
     "text": [
      "2024/06/27 21:42:04 INFO mlflow.system_metrics.system_metrics_monitor: Started monitoring system metrics.\n",
      "  0%|          | 19/15000 [01:33<18:11:59,  4.37s/it]c:\\ProgramData\\Anaconda3\\lib\\site-packages\\_distutils_hack\\__init__.py:18: UserWarning: Distutils was imported before Setuptools, but importing Setuptools also replaces the `distutils` module in `sys.modules`. This may lead to undesirable behaviors or errors. To avoid these issues, avoid using distutils directly, ensure that setuptools is installed in the traditional way (e.g. not an editable install), and/or make sure that setuptools is always imported before distutils.\n",
      "  warnings.warn(\n",
      "c:\\ProgramData\\Anaconda3\\lib\\site-packages\\_distutils_hack\\__init__.py:33: UserWarning: Setuptools is replacing distutils.\n",
      "  warnings.warn(\"Setuptools is replacing distutils.\")\n",
      "  0%|          | 24/15000 [02:00<19:48:43,  4.76s/it]Exception ignored in: <function TransformNode.set_children.<locals>.<lambda> at 0x000001C6270BAB80>\n",
      "Traceback (most recent call last):\n",
      "  File \"c:\\ProgramData\\Anaconda3\\lib\\site-packages\\matplotlib\\transforms.py\", line 222, in <lambda>\n",
      "    self, lambda _, pop=child._parents.pop, k=id(self): pop(k))\n",
      "KeyboardInterrupt: \n",
      "  0%|          | 28/15000 [02:17<18:41:40,  4.50s/it]"
     ]
    }
   ],
   "source": [
    "with mlflow.start_run(log_system_metrics=True) as run:\n",
    "    # Seed random generators to ensure deterministic experiments\n",
    "    random.seed(RANDOM_SEED)\n",
    "    np.random.seed(RANDOM_SEED)\n",
    "    torch.manual_seed(RANDOM_SEED)\n",
    "    torch.cuda.manual_seed(RANDOM_SEED)\n",
    "    torch.cuda.manual_seed_all(RANDOM_SEED)\n",
    "    torch.backends.cudnn.deterministic = True\n",
    "    torch.backends.cudnn.benchmark = False\n",
    "    generator = torch.Generator()\n",
    "    generator.manual_seed(RANDOM_SEED) \n",
    "    \n",
    "    # Define PyTorch device\n",
    "    device = torch.device('cuda' if torch.cuda.is_available() else 'cpu')\n",
    "    \n",
    "    # Read and log train, validation and test datasets\n",
    "    trn_ldr, val_ldr, tst_ldr = DataSplit(DATA_DIR, NOISE_TYPE, DATA_FILE_GEN, DATA_FILE_SIGS, DATA_FILE_NOISE,\n",
    "                                          DATA_FILE_BPDN, DATA_FILE_BPDN_FINAL, TVT_SPLIT, BATCH_SIZE, generator=generator)\n",
    "    Psi = torch.from_numpy(np.load(pjoin(DATA_DIR, DICT_FILE_BW)))\n",
    "    Psi = Psi.clone().detach().to(device=device)\n",
    "    bpdn_est = np.load(os.path.join(DATA_DIR, DATA_FILE_BPDN_MAX))\n",
    "    dictionary = np.load(os.path.join(DATA_DIR, DICT_FILE_BW))\n",
    "    \n",
    "    # Specify and log training parameters\n",
    "    dt = datetime.now().strftime('%Y-%m-%d-%H-%M-%S')\n",
    "    params = {\n",
    "        'batch_size': BATCH_SIZE,\n",
    "        'lr': LEARNING_RATE,\n",
    "        'fnet_layer_no': FNET_LAYER_NO,\n",
    "        'fnet_feature_no': FNET_FEATURE_NO,\n",
    "        'device': device,\n",
    "        'lr_dec_after': LR_DEC_AFTER,\n",
    "        'lr_dec_every': LR_DEC_EVERY,\n",
    "        'lambda_sp_loss': LAMBDA_SP_LOSS,   \n",
    "        'lambda_pred_sp_loss': LAMBDA_PRED_SP_LOSS,\n",
    "        'lambda_sym_loss': LAMBDA_SYM_LOSS\n",
    "    }   \n",
    "    mlflow.log_params(params)\n",
    "\n",
    "    # Define, train and evaluate model\n",
    "    trainer = FISTANetTrainer(Psi, bpdn_est, dictionary, params)\n",
    "    trainer.train(trn_ldr, val_ldr, 15000, start_epoch=0, log_model_every=100, log_comp_fig_every=10)\n",
    "    trainer.evaluate(tst_ldr)\n",
    "    trainer.evaluate(tst_ldr, criterion=torch.nn.HuberLoss(), crit_text='huber')"
   ]
  },
  {
   "cell_type": "code",
   "execution_count": null,
   "id": "1b7d8cd4",
   "metadata": {},
   "outputs": [],
   "source": []
  }
 ],
 "metadata": {
  "kernelspec": {
   "display_name": "Python (ecgenv)",
   "language": "python",
   "name": "ecgenv"
  },
  "language_info": {
   "codemirror_mode": {
    "name": "ipython",
    "version": 3
   },
   "file_extension": ".py",
   "mimetype": "text/x-python",
   "name": "python",
   "nbconvert_exporter": "python",
   "pygments_lexer": "ipython3",
   "version": "3.9.13"
  }
 },
 "nbformat": 4,
 "nbformat_minor": 5
}
